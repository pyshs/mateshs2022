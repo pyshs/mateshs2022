{
 "cells": [
  {
   "cell_type": "markdown",
   "metadata": {},
   "source": [
    "# MATE-SHS - Traitement des données d'un questionnaire\n",
    "\n",
    "Ce notebook propose de suivre les différentes étapes de l'analyse des données d'une enquête par questionnaire.\n",
    "\n",
    "**L'enquête est passée par un prestataire, et les résultats sont transmis dans un fichier SPSS .sav**\n",
    "\n",
    "### Démarche\n",
    "\n",
    "Les étapes du traitement sont alors :\n",
    "\n",
    "1. Chargement et recodage\n",
    "2. Nettoyage et exploration (1. et 2. sont itératifs)\n",
    "3. Production de statistiques descriptives et de visualisations\n",
    "4. Traitements statistiques plus avancées autour de certaines questions\n",
    "5. Production de visualisations finalisées\n",
    "\n",
    "Le Notebook permet de noter progressivement les idées de l'analyse.\n",
    "\n",
    "**Pour les besoins pédagogique, la première partie de chargement suit un peu la démarche \"progressive\", avec un exemple de recodage, puis nous passerons rapidement sur le recodage de chaque variable.**\n",
    "\n",
    "### Données\n",
    "\n",
    "Le jeu de données sera celui du Wellcome Trust passé par Gallup à travers le monde pour connaître l'attitude vis-à-vis de la science. Une question générale est alors : retrouve-t-on les mêmes tendances dans tous les pays ?\n",
    "\n",
    "Les données ainsi que le rapport sont disponibles ici : https://wellcome.org/reports/wellcome-global-monitor-covid-19/2020\n",
    "\n",
    "\n",
    "\n"
   ]
  },
  {
   "cell_type": "markdown",
   "metadata": {},
   "source": [
    "## Etape 0. Les bibliothèques\n",
    "\n",
    "Pour utiliser la puissance de Python, on a besoin de recourir à des outils déjà développés (en Python) regroupés dans des bibliothèques, permettant de manipuler des tableaux, faire des visualisations, etc.\n",
    "\n",
    "Ces bibliothèques sont regroupées sur https://pypi.org/\n",
    "\n",
    "Pour les installer, il suffit d'utiliser la commande **pip install NOMDELABIBLIOTHEQUE** soit dans la console, soit dans une cellule.\n",
    "\n",
    "Chaque bibliothèque a sa philosophie : jeter un coup d'oeil à la documentation est souvent nécessaire.\n",
    "\n",
    "$\\rightarrow$ Installer les bibliothèques : pandas, pyshs, matplotlib\n",
    "\n",
    "> pip install pandas pyshs matplotlib\n",
    "\n",
    "Et potentiellement `geopandas` pour les cartes"
   ]
  },
  {
   "cell_type": "markdown",
   "metadata": {},
   "source": [
    "## Etape 1. Chargement et recodage\n",
    "\n",
    "Utilisation de la puissance de Pandas : https://pandas.pydata.org/"
   ]
  },
  {
   "cell_type": "code",
   "execution_count": null,
   "metadata": {},
   "outputs": [],
   "source": [
    "# Chargement de bibliothèques\n",
    "import pandas as pd\n",
    "import pyshs\n",
    "import matplotlib.pyplot as plt"
   ]
  },
  {
   "cell_type": "code",
   "execution_count": null,
   "metadata": {},
   "outputs": [],
   "source": [
    "data = pd.read_spss(\"./wgm-full-wave2-public-file.sav\", convert_categoricals=True)\n",
    "data.shape"
   ]
  },
  {
   "cell_type": "code",
   "execution_count": null,
   "metadata": {},
   "outputs": [],
   "source": [
    "# Ou d'utiliser Pyreadstat pour séparer les méta-données\n",
    "#import pyreadstat\n",
    "#data, meta = pyreadstat.read_sav('./wgm-full-wave2-public-file.sav')"
   ]
  },
  {
   "cell_type": "code",
   "execution_count": null,
   "metadata": {},
   "outputs": [],
   "source": [
    "data.head()"
   ]
  },
  {
   "cell_type": "markdown",
   "metadata": {},
   "source": [
    "C'est un **tableau Pandas** (DataFrame). Il est possible :\n",
    "\n",
    "- de sélectionner des éléments, de les filtrers\n",
    "- de faire des opérations similaires à des requêtes\n",
    "- de faire des traitements plus complexes..."
   ]
  },
  {
   "cell_type": "markdown",
   "metadata": {},
   "source": [
    "### Commencer à analyser"
   ]
  },
  {
   "cell_type": "markdown",
   "metadata": {},
   "source": [
    "A partir de là, il est possible d'explorer le jeu de données et de commencer à 1/ identifier les questions qui nous intéressent et 2/ recoder les variables\n",
    "\n",
    "Dans le cas d'une réflexion qui porte sur le rapport à la science : \n",
    "\n",
    "Variables dépendantes d'intérêt:\n",
    "\n",
    "- 'W1': 'How Much You Know About Science'\n",
    "- 'W2': 'How Much You Understand the Meaning of Science and Scientists'\n",
    "- 'W6': 'Trust Science'\n",
    "- **'W7C': 'Leaders in National Govt Value Opinions/Expertise of Scientists'**\n",
    "- 'W8': 'Work of Scientists Benefits People in (Country)',\n",
    "- 'W9': 'Work of Scientists Benefits People Like You in (Country)',\n",
    "- 'WP21768': 'Agree to Be Vaccinated if Coronavirus Vaccine Was Available at No Cost\n",
    "- **'MH4A': 'Important for National Govt to Fund Research on Cancer'**\n",
    "- 'MH4B': 'Important for National Govt to Fund Research on Anxiety/Depression'\n",
    "\n",
    "Variables indépendantes :\n",
    "- 'Age': 'Age',\n",
    "- 'Gender': 'Gender',\n",
    "- 'Education': 'Education Level',\n",
    "- 'Household_Income': 'Per Capita Income Quintiles',\n",
    "- 'Global11Regions': 'Global regions used in report analysis',\n",
    "- 'wbi': 'Country income level -- World Bank most recent definition',\n",
    "- 'Subjective_Income': 'Feelings About Household Income',\n",
    "- 'EMP_2010': 'Employment Status'}\n",
    "- 'W27': 'Used Social Media in Past 30 Days',\n",
    "- 'W28': 'How Often Use Social Media',\n",
    "- 'W29': 'How Often See Information About Health on Social Media',\n",
    "- 'W30': 'Believe Science or Teachings of Your Religion',\n",
    "- 'WP21757': 'Extent Life Has Been Affected by Coronavirus Situation\n",
    "- Différents items sur la confiance : 'W5A': 'Trust People in Neighborhood',\n",
    " 'W5B': 'Trust the National Government in This Country',\n",
    " 'W5C': 'Trust Scientists in This Country',\n",
    " 'W5D': 'Trust Journalists in This Country',\n",
    " 'W5E': 'Trust Doctors and Nurses in This Country',\n",
    " 'W5F': 'Trust People Who Work at Charitable Organizations or NGOs in This Country',\n",
    " 'W5G': 'Trust Traditional Healers in This Country',\n",
    "\n",
    "Par ailleurs, comme  souvent, c'est une enquête pondérée avec les poids : 'WGT'"
   ]
  },
  {
   "cell_type": "markdown",
   "metadata": {},
   "source": [
    "### Regarder chaque variable pour la recoder comme on le souhaite"
   ]
  },
  {
   "cell_type": "markdown",
   "metadata": {},
   "source": [
    "Cas de la place de la science dans la décision politique"
   ]
  },
  {
   "cell_type": "markdown",
   "metadata": {},
   "source": [
    "Il y a des valeurs nulles et les labels ne sont pas explicites"
   ]
  },
  {
   "cell_type": "code",
   "execution_count": null,
   "metadata": {},
   "outputs": [],
   "source": [
    "data[\"W7C\"].unique()"
   ]
  },
  {
   "cell_type": "markdown",
   "metadata": {},
   "source": [
    "Passer du type \"catégorie\" au type générique \"object\" et changer les valeurs"
   ]
  },
  {
   "cell_type": "code",
   "execution_count": null,
   "metadata": {},
   "outputs": [],
   "source": [
    "# On change de type\n",
    "data[\"W7C\"] = data[\"W7C\"].astype(\"object\")\n",
    "\n",
    "# On remplace\n",
    "data[\"W7C\"] = data[\"W7C\"].replace({\"Some\":\"2-Some\", \n",
    "                                   \"Not at all\":\"1-Not much or not at al\", \"Not much\":\"1-Not much or not at al\",\n",
    "                                   \"A lot\":\"3-A lot\", \"DK/Refused\":\"4-DK/Refused\"})\n",
    "\n",
    "# On remplace les valeurs nulles et on change de nom\n",
    "data[\"relation_science_politiques\"] = data[\"W7C\"].fillna(\"5-NA\")"
   ]
  },
  {
   "cell_type": "markdown",
   "metadata": {},
   "source": [
    "On regarde la distribution"
   ]
  },
  {
   "cell_type": "code",
   "execution_count": null,
   "metadata": {},
   "outputs": [],
   "source": [
    "data[\"relation_science_politiques\"].value_counts()"
   ]
  },
  {
   "cell_type": "code",
   "execution_count": null,
   "metadata": {},
   "outputs": [],
   "source": [
    "100*data[\"relation_science_politiques\"].value_counts(normalize=True)"
   ]
  },
  {
   "cell_type": "markdown",
   "metadata": {},
   "source": [
    "L'idée est alors de faire ce traitement pour chacune des variables, en vérifiant graduellement. Et à la fin de rassembler toutes les étapes de codage dans un même bloc comme ci-dessous"
   ]
  },
  {
   "cell_type": "code",
   "execution_count": null,
   "metadata": {},
   "outputs": [],
   "source": [
    "data[\"connaissance_science\"].unique()"
   ]
  },
  {
   "cell_type": "code",
   "execution_count": null,
   "metadata": {},
   "outputs": [],
   "source": [
    "reco = {\"Some\":\"2-Some\", \n",
    "        \"Not at all\":\"1-Not much or not at al\", \"Not much\":\"1-Not much or not at al\",\n",
    "        \"A lot\":\"3-A lot\", \"DK/Refused\":\"4-DK/Refused\"}\n",
    "data[\"connaissance_science\"] = data['W1'].astype(\"object\").replace(reco).fillna(\"5-NA\")"
   ]
  },
  {
   "cell_type": "code",
   "execution_count": null,
   "metadata": {},
   "outputs": [],
   "source": [
    "data[\"connaissance_science\"].value_counts()"
   ]
  },
  {
   "cell_type": "markdown",
   "metadata": {},
   "source": [
    "### Bloc de recodage"
   ]
  },
  {
   "cell_type": "code",
   "execution_count": null,
   "metadata": {},
   "outputs": [],
   "source": [
    "# Recodage des variables utilisées - importance des labels explicits\n",
    "\n",
    "# Changement de noms\n",
    "data[\"poids\"] = data[\"WGT\"].astype(\"object\").fillna(\"NA\")\n",
    "data[\"pays\"] = data[\"COUNTRYNEW\"].astype(\"object\").fillna(\"NA\")\n",
    "data[\"age_reco\"] = data[\"age_var1\"].astype(\"object\").fillna(\"NA\")\n",
    "data[\"genre\"] = data[\"Gender\"].astype(\"object\").fillna(\"NA\")\n",
    "data[\"education\"] = data[\"Education\"].astype(\"object\").fillna(\"NA\")\n",
    "data[\"revenus\"] = data[\"Household_Income\"].astype(\"object\").fillna(\"NA\")\n",
    "\n",
    "\n",
    "reco = {\"Some\":\"2-Some\", \n",
    "        \"Not at all\":\"1-Not much or not at al\", \"Not much\":\"1-Not much or not at al\",\n",
    "        \"A lot\":\"3-A lot\", \"DK/Refused\":\"4-DK/Refused\"}\n",
    "data[\"gouvernants_valorisent_scientifiques\"] = data[\"W7C\"].replace(reco).astype(\"object\").fillna(\"4-DK/Refused\")\n",
    "data[\"confiance_hopital\"] = data[\"W4\"].replace(reco).astype(\"object\").fillna(\"4-DK/Refused\")\n",
    "data[\"confiance_science\"] = data[\"W6\"].replace(reco).astype(\"object\").fillna(\"4-DK/Refused\")\n",
    "data[\"confiance_gouvernement\"] = data[\"W5B\"].replace(reco).astype(\"object\").fillna(\"4-DK/Refused\")\n",
    "data[\"confiance_scientifiques\"] = data[\"W5C\"].replace(reco).astype(\"object\").fillna(\"4-DK/Refused\")\n",
    "data[\"confiance_journalistes\"] = data[\"W5D\"].replace(reco).astype(\"object\").fillna(\"4-DK/Refused\")\n",
    "data[\"confiance_medecins\"] = data[\"W5E\"].replace(reco).astype(\"object\").fillna(\"4-DK/Refused\")\n",
    "data[\"confiance_rebouteux\"] = data[\"W5G\"].replace(reco).astype(\"object\").fillna(\"4-DK/Refused\")"
   ]
  },
  {
   "cell_type": "markdown",
   "metadata": {},
   "source": [
    "$\\rightarrow$ Recoder le bénéfice de la science"
   ]
  },
  {
   "cell_type": "markdown",
   "metadata": {},
   "source": [
    "Si au cours de l'analyse, de nouvelles variables sont utilisées, il est facile de rajouter les variables dans ce bloc pour qu'elles puissent être intégrées"
   ]
  },
  {
   "cell_type": "markdown",
   "metadata": {},
   "source": [
    "Sauvegarder"
   ]
  },
  {
   "cell_type": "markdown",
   "metadata": {},
   "source": [
    "## Etape 2. Nettoyage et exploration\n",
    "\n",
    "Cette étape recoupe la précédente car elle relève aussi largement de l'identification des bonnes variables.\n",
    "\n",
    "Par exemple, deux questions que nous pouvons nous poser :\n",
    "\n",
    "1. Est-ce qu'on considère les différentes réponses de question sur la confiance individuellement ou est-ce qu'on construit un indicateur\n",
    "2. Est-ce que les deux questions sur la confiance dans les scientifiques du pays, et la confiance dans la science en général, est la même chose"
   ]
  },
  {
   "cell_type": "code",
   "execution_count": null,
   "metadata": {},
   "outputs": [],
   "source": [
    "data[\"W5A\"].unique()"
   ]
  },
  {
   "cell_type": "code",
   "execution_count": null,
   "metadata": {},
   "outputs": [],
   "source": [
    "reco = {\"Not at all\":0,\"DK/Refused\":0,\"Not much\":1,\"Some\":2,\"A lot\":4}"
   ]
  },
  {
   "cell_type": "code",
   "execution_count": null,
   "metadata": {},
   "outputs": [],
   "source": [
    "# Corrélation entre les indicateurs avec Pandas en enlevant les valeurs absentes\n",
    "corr = data[['W5A', 'W5B', 'W5C', 'W5D', 'W5E', 'W5F', 'W5G']].replace(reco).corr()\n",
    "corr"
   ]
  },
  {
   "cell_type": "code",
   "execution_count": null,
   "metadata": {},
   "outputs": [],
   "source": [
    "# Le rendre un peu plus joli avec Seaborn\n",
    "# https://medium.com/@szabo.bibor/how-to-create-a-seaborn-correlation-heatmap-in-python-834c0686b88e\n",
    "import seaborn as sns\n",
    "heatmap = sns.heatmap(corr, vmin=0, vmax=1, annot=True)"
   ]
  },
  {
   "cell_type": "markdown",
   "metadata": {},
   "source": [
    "On constate la particularité du dernier indicateur ..."
   ]
  },
  {
   "cell_type": "markdown",
   "metadata": {},
   "source": [
    "Lien entre les deux questions : on fait un tableau croisé"
   ]
  },
  {
   "cell_type": "code",
   "execution_count": null,
   "metadata": {},
   "outputs": [],
   "source": [
    "pd.crosstab(data[\"confiance_science\"],data[\"confiance_scientifiques\"],margins=True)"
   ]
  },
  {
   "cell_type": "markdown",
   "metadata": {},
   "source": [
    "On peut le représenter sur un tableau croisé"
   ]
  },
  {
   "cell_type": "code",
   "execution_count": null,
   "metadata": {},
   "outputs": [],
   "source": [
    "tab = pd.crosstab(data[\"confiance_science\"],data[\"confiance_scientifiques\"])\n",
    "tab.plot(kind=\"bar\",cmap=\"viridis\",figsize=(10,5))"
   ]
  },
  {
   "cell_type": "markdown",
   "metadata": {},
   "source": [
    "Cela ne coincide pas exactement. On va donc créer une typologie pour notre analyse :\n",
    "- confiance dans la science (W4 = 1,2), mais pas confiance dans les scientifiques (W5D=3,4)\n",
    "- confiance dans les scientifiques, mais pas dans la science (l'inverse)\n",
    "- pas confiance dans la science ni les scientifiques\n",
    "- confiance dans les deux\n",
    "- si une valeur manque, NA"
   ]
  },
  {
   "cell_type": "code",
   "execution_count": null,
   "metadata": {},
   "outputs": [],
   "source": [
    "data[\"confiance_scientifiques\"].unique()"
   ]
  },
  {
   "cell_type": "code",
   "execution_count": null,
   "metadata": {},
   "outputs": [],
   "source": [
    "def reco(ligne):\n",
    "    #  Cas où une valeur manque\n",
    "    if (ligne[\"confiance_science\"]=='4-DK/Refused') | (ligne[\"confiance_scientifiques\"]=='4-DK/Refused'):\n",
    "        return \"5-NA\"\n",
    "    \n",
    "    # Cas où confiance science mais pas scientifique\n",
    "    if (ligne[\"confiance_science\"] in ['2-Some', '3-A lot']) & (ligne[\"confiance_scientifiques\"] in ['1-Not much or not at al']):\n",
    "        return \"1-Confiance science mais pas les scientifiques\"\n",
    "    \n",
    "    # Cas où confiance scientifique mais pas science\n",
    "    if (ligne[\"confiance_science\"] in ['1-Not much or not at al']) & (ligne[\"confiance_scientifiques\"] in ['2-Some', '3-A lot']):\n",
    "        return \"2-Confiance scientifiques mais pas dans la science\"\n",
    "    \n",
    "    # Cas où confiance générale\n",
    "    if (ligne[\"confiance_science\"] in ['2-Some', '3-A lot']) & (ligne[\"confiance_scientifiques\"] in ['2-Some', '3-A lot']):\n",
    "        return \"3-Confiance science\"\n",
    "    \n",
    "    # Cas où méfiance générale\n",
    "    if (ligne[\"confiance_science\"] in ['1-Not much or not at al']) & (ligne[\"confiance_scientifiques\"] in ['1-Not much or not at al']):\n",
    "        return \"4-Méfiance science\" \n",
    "    \n",
    "# Appliquer le recodage\n",
    "data[\"confiance_science_scientifiques\"] = data.apply(reco,axis=1)\n",
    "data[\"confiance_science_scientifiques\"].value_counts()"
   ]
  },
  {
   "cell_type": "markdown",
   "metadata": {},
   "source": [
    "## Etape 3. Production de données statistiques\n",
    "\n",
    "Dans le cas ici, on a des données qui sont en plus structurées par pays. Il faut donc penser des traitements par pays (par exemple sur la France) et des comparaisons\n",
    "\n",
    "On va utiliser une bibliothèque pour faire des statistiques"
   ]
  },
  {
   "cell_type": "markdown",
   "metadata": {},
   "source": [
    "### Exploration du cas de la France"
   ]
  },
  {
   "cell_type": "markdown",
   "metadata": {},
   "source": [
    "Construction d'un sous-corpus"
   ]
  },
  {
   "cell_type": "code",
   "execution_count": null,
   "metadata": {},
   "outputs": [],
   "source": [
    "data_fr = data[data[\"pays\"].str.contains(\"France\")]"
   ]
  },
  {
   "cell_type": "code",
   "execution_count": null,
   "metadata": {},
   "outputs": [],
   "source": [
    "data_fr.head()"
   ]
  },
  {
   "cell_type": "markdown",
   "metadata": {},
   "source": [
    "#### Tri à plats"
   ]
  },
  {
   "cell_type": "code",
   "execution_count": null,
   "metadata": {},
   "outputs": [],
   "source": [
    "pyshs.tri_a_plat(data_fr,\"confiance_science_scientifiques\",\"poids\")"
   ]
  },
  {
   "cell_type": "code",
   "execution_count": null,
   "metadata": {},
   "outputs": [],
   "source": [
    "tableau = {\n",
    "    \"Confiance Science\":pyshs.tri_a_plat(data_fr,\"confiance_science\",\"poids\"),\n",
    "    \"Confiance Scientifiques\":pyshs.tri_a_plat(data_fr,\"confiance_scientifiques\",\"poids\"),\n",
    "    \"Confiance Hopital\":pyshs.tri_a_plat(data_fr,\"confiance_hopital\",\"poids\"),\n",
    "    \"Confiance Médecins\":pyshs.tri_a_plat(data_fr,\"confiance_medecins\",\"poids\"),\n",
    "    \"Confiance Gouvernement\":pyshs.tri_a_plat(data_fr,\"confiance_gouvernement\",\"poids\"),\n",
    "}\n",
    "pd.concat(tableau,axis=1)"
   ]
  },
  {
   "cell_type": "markdown",
   "metadata": {},
   "source": [
    "### Tableau croisé"
   ]
  },
  {
   "cell_type": "code",
   "execution_count": null,
   "metadata": {},
   "outputs": [],
   "source": [
    "var_ind = {\"genre\":\"Genre\",\"age_reco\":\"Age\",\n",
    "           \"education\":\"Diplome\"}"
   ]
  },
  {
   "cell_type": "markdown",
   "metadata": {},
   "source": [
    "Rapport Science/politique"
   ]
  },
  {
   "cell_type": "code",
   "execution_count": null,
   "metadata": {},
   "outputs": [],
   "source": [
    "pyshs.tableau_croise_multiple(data_fr,\"confiance_hopital\",var_ind,\"poids\")"
   ]
  },
  {
   "cell_type": "markdown",
   "metadata": {},
   "source": [
    "Pas de grosses variations"
   ]
  },
  {
   "cell_type": "markdown",
   "metadata": {},
   "source": [
    "#### Petit visualisation"
   ]
  },
  {
   "cell_type": "code",
   "execution_count": null,
   "metadata": {},
   "outputs": [],
   "source": [
    "# Définir en amont les variables\n",
    "variables = {\"confiance_hopital\":\"Confiance hopital\",\"confiance_science\":\"Confiance Science\",\n",
    "            \"confiance_gouvernement\":\"Confiance gouvernement\",\"confiance_scientifiques\":\"confiance scientifiques\",\n",
    "            \"confiance_journalistes\":\"Confiance journalistes\",\"confiance_medecins\":\"Confiance médecins\"}\n",
    "\n",
    "# Définir une nouvelle figure\n",
    "fig,ax = plt.subplots(3,2,figsize=(8,10),sharex=True,sharey=True)\n",
    "\n",
    "# passer le tableau de 2 dimensions à 1\n",
    "ax = ax.flatten()\n",
    "\n",
    "# Pour chaque variable à tracer\n",
    "for i,j in zip(variables,range(0,len(variables))):\n",
    "    t = pyshs.tri_a_plat(data_fr,i,\"poids\")[\"Pourcentage (%)\"].drop(\"Total\")\n",
    "    t.plot(kind='bar',ax=ax[j],color = [\"red\",\"orange\",\"green\",\"gray\"],alpha=0.5)\n",
    "    ax[j].set_title(variables[i])\n",
    "    \n",
    "fig.suptitle(\"Confiance des répondants du pays\")"
   ]
  },
  {
   "cell_type": "markdown",
   "metadata": {},
   "source": [
    "#### Par pays, afficher la confiance à l'hopital"
   ]
  },
  {
   "cell_type": "code",
   "execution_count": null,
   "metadata": {},
   "outputs": [],
   "source": [
    "# Construire une fonction dédiée qui traite un tableau pandas\n",
    "def prop_lot(x):\n",
    "    t = pyshs.tri_a_plat(x,\"confiance_hopital\",\"poids\")\n",
    "    try:\n",
    "        return t.loc['3-A lot',\"Pourcentage (%)\"]\n",
    "    except:\n",
    "        return None\n",
    "\n",
    "# L'appliquer à la sortie d'un groupby, trier et afficher\n",
    "data.groupby(\"pays\").apply(prop_lot).sort_values().plot(kind=\"barh\",figsize=(5,30))"
   ]
  },
  {
   "cell_type": "markdown",
   "metadata": {},
   "source": [
    "## Analyse statistique plus avancée\n",
    "\n",
    "Suivant votre spécialité, vous aimeriez faire des traitements. En tant que sociologue, je serai intéressé à connaître les principaux déterminants sur certaines variables d'intérêts, par exemple le fait de penser que les gouvernants valorise l'expertise des scientifiques. Une solution est de faire une régression logistique. Plusieurs solutions pour cela : passer par la bibliothèque statsmodels, ou utiliser le wrapper de pyshs pour obtenir un tableau rapidement"
   ]
  },
  {
   "cell_type": "markdown",
   "metadata": {},
   "source": [
    "Créer une variable dichotomisée dépendante 1/0"
   ]
  },
  {
   "cell_type": "code",
   "execution_count": null,
   "metadata": {},
   "outputs": [],
   "source": [
    "data[\"valo_sci_dich\"] = data[\"gouvernants_valorisent_scientifiques\"].apply(lambda x : 1 if x==\"3-A lot\" else 0)"
   ]
  },
  {
   "cell_type": "code",
   "execution_count": null,
   "metadata": {},
   "outputs": [],
   "source": [
    "var_ind = {\"genre\":\"Genre\",\"age_reco\":\"Age\",\"revenus\":\"Revenus\"}\n",
    "pyshs.regression_logistique(data,\"valo_sci_dich\",var_ind,\"poids\")"
   ]
  },
  {
   "cell_type": "markdown",
   "metadata": {},
   "source": [
    "## Représentations géographiques\n",
    "\n",
    "Pour cela on utilise GéoPandas\n",
    "\n",
    "Il faut un fond de carte, généralement en shapefiles : https://public.opendatasoft.com/explore/dataset/world-administrative-boundaries/export/"
   ]
  },
  {
   "cell_type": "code",
   "execution_count": null,
   "metadata": {},
   "outputs": [],
   "source": [
    "import geopandas as gpd"
   ]
  },
  {
   "cell_type": "code",
   "execution_count": null,
   "metadata": {},
   "outputs": [],
   "source": [
    "carte = gpd.read_file(\"./world-administrative-boundaries/world-administrative-boundaries.shp\")"
   ]
  },
  {
   "cell_type": "markdown",
   "metadata": {},
   "source": [
    "Vérifions que le nom des pays est écrit de la même manière dans le jeu de données et dans la carte"
   ]
  },
  {
   "cell_type": "code",
   "execution_count": null,
   "metadata": {},
   "outputs": [],
   "source": [
    "noms_cartes = carte[\"name\"].unique()\n",
    "noms_data = data[\"COUNTRYNEW\"].unique()\n",
    "\n",
    "for i in noms_data:\n",
    "    if not i in noms_cartes:\n",
    "        print(i)"
   ]
  },
  {
   "cell_type": "markdown",
   "metadata": {},
   "source": [
    "Ce sont les noms qu'il faut relier, donc on va créer un dictionnaire de correspondances et créer une nouvelle colonne avec les noms recodées"
   ]
  },
  {
   "cell_type": "code",
   "execution_count": null,
   "metadata": {},
   "outputs": [],
   "source": [
    "reco = {   \"United States\":'United States of America',\n",
    "    \"United Kingdom\":'U.K. of Great Britain and Northern Ireland',\n",
    "    \"Iran\":'Iran (Islamic Republic of)',\n",
    "    \"Tanzania\":'United Republic of Tanzania',\n",
    "     \"South Korea\":'Republic of Korea',\n",
    "     'Moldova':'Moldova, Republic of',\n",
    "     \"Russia\":'Russian Federation',\n",
    "     \"Bosnia Herzegovina\":'Bosnia & Herzegovina',\n",
    "     \"Congo Brazzaville\":'Democratic Republic of the Congo',\n",
    "     \"North Macedonia\":'The former Yugoslav Republic of Macedonia'\n",
    "    }\n",
    "\n",
    "# reste à faire Kosovo et Ivory Coast\n",
    "data[\"pays_reco\"] = data[\"pays\"].replace(reco) "
   ]
  },
  {
   "cell_type": "markdown",
   "metadata": {},
   "source": [
    "Il est possible maintenant de créer des données par pays à partir du sondage"
   ]
  },
  {
   "cell_type": "code",
   "execution_count": null,
   "metadata": {},
   "outputs": [],
   "source": [
    "data_pays = pd.DataFrame(data.groupby(\"pays_reco\").apply(prop_lot),columns=[\"Confiance hopital\"])"
   ]
  },
  {
   "cell_type": "markdown",
   "metadata": {},
   "source": [
    "Et de les associer à la carte"
   ]
  },
  {
   "cell_type": "code",
   "execution_count": null,
   "metadata": {},
   "outputs": [],
   "source": [
    "carte_data = carte.join(data_pays,on=\"name\")"
   ]
  },
  {
   "cell_type": "markdown",
   "metadata": {},
   "source": [
    "Pour construire une visualisation (plus de détail par exemple sur  https://geopandas.org/en/stable/docs/user_guide/mapping.html)"
   ]
  },
  {
   "cell_type": "code",
   "execution_count": null,
   "metadata": {},
   "outputs": [],
   "source": [
    "ax = carte_data.plot(column='Confiance hopital',figsize=(15,10),legend=True,\n",
    "                legend_kwds={'label': \"% de répondants qui ont confiance dans l'hopital\",\n",
    "                             'orientation': \"horizontal\"}, missing_kwds={'color': 'lightgrey'})\n",
    "ax.set_axis_off()"
   ]
  },
  {
   "cell_type": "markdown",
   "metadata": {},
   "source": [
    "Aller plus loin avec des cartes interactives : https://python-visualization.github.io/folium/quickstart.html"
   ]
  }
 ],
 "metadata": {
  "kernelspec": {
   "display_name": "Python 3",
   "language": "python",
   "name": "python3"
  },
  "language_info": {
   "codemirror_mode": {
    "name": "ipython",
    "version": 3
   },
   "file_extension": ".py",
   "mimetype": "text/x-python",
   "name": "python",
   "nbconvert_exporter": "python",
   "pygments_lexer": "ipython3",
   "version": "3.7.7"
  }
 },
 "nbformat": 4,
 "nbformat_minor": 4
}
